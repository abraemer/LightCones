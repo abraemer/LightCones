{
 "cells": [
  {
   "cell_type": "code",
   "execution_count": 1,
   "metadata": {},
   "outputs": [],
   "source": [
    "import numpy as np\n",
    "import matplotlib.pyplot as plt\n",
    "import matplotlib.cm as mplcm\n",
    "import matplotlib.colors as colors\n",
    "from scipy.optimize import curve_fit\n",
    "import h5py\n",
    "from pathlib import Path    \n",
    "import seaborn as sns\n",
    "from collections.abc import Iterable"
   ]
  },
  {
   "cell_type": "code",
   "execution_count": 6,
   "metadata": {},
   "outputs": [],
   "source": [
    "datapath = Path.cwd() / \"results/short_times\""
   ]
  },
  {
   "cell_type": "code",
   "execution_count": 3,
   "metadata": {},
   "outputs": [],
   "source": [
    "def rearrange_data(arr): #\n",
    "    res = np.swapaxes(arr,-1,0)\n",
    "    res = np.swapaxes(res,-2,1)\n",
    "    return res\n",
    "\n",
    "def disorder_mean(A, n_samples = None):\n",
    "    if n_samples is None:\n",
    "        return np.mean(A,2)\n",
    "    else:\n",
    "        return np.mean(A[:,:,0:n_samples],2)\n",
    "\n",
    "def disorder_std(A, n_samples = None):\n",
    "    if n_samples is None:\n",
    "        return np.std(A,2)\n",
    "    else:\n",
    "        return np.std(A[:,:,0:n_samples],2)"
   ]
  },
  {
   "cell_type": "code",
   "execution_count": 4,
   "metadata": {},
   "outputs": [],
   "source": [
    "def modified_disorder_mean(arr,distance_matrix):\n",
    "    N = arr.shape[1]\n",
    "    SHOTS = arr.shape[2]\n",
    "    n_bins = int(np.max(distance_matrix))+1 #Bins [0,1),[1,2),...\n",
    "    new_arr = np.zeros((arr.shape[0],n_bins))\n",
    "    counts = np.zeros(n_bins)\n",
    "    for shot in range(0,SHOTS):\n",
    "        for j in range(0,N):\n",
    "            j_eff= int(distance_matrix[0,j,shot])\n",
    "            new_arr[:,j_eff] += arr[:,j,shot]\n",
    "            counts[j_eff] += 1\n",
    "    for bin in range(0,n_bins):\n",
    "        if counts[bin] != 0:\n",
    "            new_arr[:,bin] = new_arr[:,bin]/counts[bin]\n",
    "    return new_arr\n",
    "\n",
    "def count_bins(distance_matrix):\n",
    "    N = distance_matrix.shape[0]\n",
    "    SHOTS = distance_matrix.shape[2]\n",
    "    n_bins = int(np.max(distance_matrix))+1 #Bins [0,1),[1,2),...\n",
    "    counts = np.zeros(n_bins)\n",
    "    for shot in range(0,SHOTS):\n",
    "        for j in range(0,N):\n",
    "            j_eff= int(distance_matrix[0,j,shot])\n",
    "            counts[j_eff] += 1\n",
    "    return counts"
   ]
  },
  {
   "cell_type": "code",
   "execution_count": 17,
   "metadata": {},
   "outputs": [],
   "source": [
    "jobids = []\n",
    "params = []\n",
    "data = []\n",
    "positiondesc = []\n",
    "positions = []\n",
    "distance_matrices = []\n",
    "N = 13\n",
    "files = [\"_N13_rp_z.jld2\",\"_N13_rp.jld2\"]\n",
    "for (i,file) in enumerate(files):\n",
    "    with h5py.File(datapath/file,\"r\") as f:\n",
    "        data.append(2-2*rearrange_data(f[\"data\"][()]))\n",
    "        params.append(f[\"params\"][()])\n",
    "        positiondesc.append(f[\"positiondata\"][()][0]) #Fix spelling in future runs!\n",
    "        positions.append(np.swapaxes(f[f[\"positiondata\"][()][1]],0,1))\n",
    "        distance_matrices.append(np.swapaxes(f[f[\"positiondata\"][()][2]],0,2))\n",
    "T = np.arange(0,2.1,0.01)\n",
    "xcenter = 1\n",
    "SHOTS = 100"
   ]
  },
  {
   "cell_type": "code",
   "execution_count": 18,
   "metadata": {},
   "outputs": [
    {
     "data": {
      "text/plain": [
       "(201, 13, 100)"
      ]
     },
     "execution_count": 18,
     "metadata": {},
     "output_type": "execute_result"
    }
   ],
   "source": [
    "data[0].shape"
   ]
  },
  {
   "cell_type": "code",
   "execution_count": 19,
   "metadata": {},
   "outputs": [],
   "source": [
    "#res = list(map(lambda arr: symmetrize(disorder_mean(arr)),data))\n",
    "#res_err = list(map(lambda arr: symmetrize(disorder_std(arr)),data))\n",
    "res = list(map(lambda arr: disorder_mean(arr),data))\n",
    "res_err = list(map(lambda arr: disorder_std(arr),data))"
   ]
  },
  {
   "cell_type": "code",
   "execution_count": 20,
   "metadata": {},
   "outputs": [],
   "source": [
    "res_m = list(map(lambda arr,distance_matrix: modified_disorder_mean(arr,distance_matrix), data, distance_matrices))\n",
    "counts = list(map(lambda distance_matrix: count_bins(distance_matrix),distance_matrices))"
   ]
  },
  {
   "cell_type": "code",
   "execution_count": 23,
   "metadata": {},
   "outputs": [
    {
     "ename": "IndexError",
     "evalue": "Replacement index 1 out of range for positional args tuple",
     "output_type": "error",
     "traceback": [
      "\u001b[0;31m---------------------------------------------------------------------------\u001b[0m",
      "\u001b[0;31mIndexError\u001b[0m                                Traceback (most recent call last)",
      "\u001b[1;32m/home/alaska/Dokumente/Julia/Masterarbeit/LightCones/notebooks/random_positions/Analysis/sigmax_sigmaz_comparison.ipynb Cell 9'\u001b[0m in \u001b[0;36m<module>\u001b[0;34m\u001b[0m\n\u001b[1;32m     <a href='vscode-notebook-cell:/home/alaska/Dokumente/Julia/Masterarbeit/LightCones/notebooks/random_positions/Analysis/sigmax_sigmaz_comparison.ipynb#ch0000010?line=10'>11</a>\u001b[0m axs[\u001b[39m0\u001b[39m]\u001b[39m.\u001b[39mset_xlabel(\u001b[39m\"\u001b[39m\u001b[39mr\u001b[39m\u001b[39m\"\u001b[39m)\n\u001b[1;32m     <a href='vscode-notebook-cell:/home/alaska/Dokumente/Julia/Masterarbeit/LightCones/notebooks/random_positions/Analysis/sigmax_sigmaz_comparison.ipynb#ch0000010?line=11'>12</a>\u001b[0m axs[\u001b[39m0\u001b[39m]\u001b[39m.\u001b[39mset_ylabel(\u001b[39m\"\u001b[39m\u001b[39moccupation\u001b[39m\u001b[39m\"\u001b[39m)\n\u001b[0;32m---> <a href='vscode-notebook-cell:/home/alaska/Dokumente/Julia/Masterarbeit/LightCones/notebooks/random_positions/Analysis/sigmax_sigmaz_comparison.ipynb#ch0000010?line=12'>13</a>\u001b[0m plt\u001b[39m.\u001b[39msuptitle(\u001b[39mr\u001b[39;49m\u001b[39m\"\u001b[39;49m\u001b[39mBinning disordered distances, geometry:\u001b[39;49m\u001b[39m{}\u001b[39;49;00m\u001b[39m, $\u001b[39;49m\u001b[39m\\\u001b[39;49m\u001b[39mrho=$\u001b[39;49m\u001b[39m{}\u001b[39;49;00m\u001b[39m\"\u001b[39;49m\u001b[39m.\u001b[39;49mformat(positiondesc[ds][\u001b[39m0\u001b[39;49m][\u001b[39m-\u001b[39;49m\u001b[39m1\u001b[39;49m]))\n\u001b[1;32m     <a href='vscode-notebook-cell:/home/alaska/Dokumente/Julia/Masterarbeit/LightCones/notebooks/random_positions/Analysis/sigmax_sigmaz_comparison.ipynb#ch0000010?line=13'>14</a>\u001b[0m plt\u001b[39m.\u001b[39mshow()\n",
      "\u001b[0;31mIndexError\u001b[0m: Replacement index 1 out of range for positional args tuple"
     ]
    },
    {
     "data": {
      "image/png": "[encoded data removed]",
      "text/plain": [
       "<Figure size 1440x720 with 2 Axes>"
      ]
     },
     "metadata": {
      "needs_background": "light"
     },
     "output_type": "display_data"
    }
   ],
   "source": [
    "ds=0\n",
    "bins = [i for i in range(0,len(counts[ds]))]\n",
    "fig, axs = plt.subplots(1, 2, figsize=(20, 10))\n",
    "axs[1].hist(counts[ds],20)\n",
    "axs[1].set_title(\"Bin occupation histogram\")\n",
    "axs[1].set_xlabel(\"bin occupation number\")\n",
    "axs[1].set_ylabel(\"#bins\")\n",
    "\n",
    "axs[0].bar(bins,counts[ds])\n",
    "axs[0].set_title(\"Occupation of each bin\")\n",
    "axs[0].set_xlabel(\"r\")\n",
    "axs[0].set_ylabel(\"occupation\")\n",
    "plt.suptitle(r\"Binning disordered distances, geometry:{}, $\\rho=${}\".format(positiondesc[ds][0][-1]))\n",
    "plt.show()\n"
   ]
  },
  {
   "cell_type": "code",
   "execution_count": null,
   "metadata": {},
   "outputs": [],
   "source": []
  }
 ],
 "metadata": {
  "interpreter": {
   "hash": "5b5ed843b087df19573f1d14f5506f035259c2d1b2fd60bc125f53e29efeb7b3"
  },
  "kernelspec": {
   "display_name": "",
   "language": "python",
   "name": "python3"
  },
  "language_info": {
   "codemirror_mode": {
    "name": "ipython",
    "version": 3
   },
   "file_extension": ".py",
   "mimetype": "text/x-python",
   "name": "python",
   "nbconvert_exporter": "python",
   "pygments_lexer": "ipython3",
   "version": "3.8.10"
  },
  "orig_nbformat": 4
 },
 "nbformat": 4,
 "nbformat_minor": 2
}
