{
 "cells": [
  {
   "cell_type": "code",
   "execution_count": 21,
   "id": "e089e531",
   "metadata": {},
   "outputs": [],
   "source": [
    "from scipy.special import erf\n",
    "import numpy as np\n",
    "import matplotlib.pyplot as plt"
   ]
  },
  {
   "cell_type": "code",
   "execution_count": 109,
   "id": "6f9bb55c",
   "metadata": {},
   "outputs": [],
   "source": [
    "Rbl = 10*1e-6 # 10 um blocakde radius\n",
    "sigma_max = np.sqrt(2) * 10*1e-6 #10 - 40 um 1/e-Durchmesser \n",
    "theta_max = 5/360*2*np.pi # 5° maximale Winkelabweichung\n",
    "L = 50 #trap length (in units of Rbl)"
   ]
  },
  {
   "cell_type": "code",
   "execution_count": 110,
   "id": "5e937eea",
   "metadata": {},
   "outputs": [],
   "source": [
    "R = np.linspace(2*Rbl,50*Rbl,2*L) #minimum 2 Rbl distance"
   ]
  },
  {
   "cell_type": "code",
   "execution_count": 111,
   "id": "d909f538",
   "metadata": {},
   "outputs": [],
   "source": [
    "def prob(r,sigma=np.sqrt(2) * 10*1e-6): #probability that d > dmax(r)\n",
    "    dmax = np.sin(theta_max) * r\n",
    "    return 1-erf(dmax/(2*sigma))"
   ]
  },
  {
   "cell_type": "code",
   "execution_count": 112,
   "id": "2da9685b",
   "metadata": {},
   "outputs": [
    {
     "data": {
      "text/plain": [
       "1.4142135623730951e-05"
      ]
     },
     "execution_count": 112,
     "metadata": {},
     "output_type": "execute_result"
    }
   ],
   "source": [
    "sigma_max"
   ]
  },
  {
   "cell_type": "code",
   "execution_count": 113,
   "id": "318c0c46",
   "metadata": {},
   "outputs": [
    {
     "data": {
      "text/plain": [
       "1.7431148549531632e-06"
      ]
     },
     "execution_count": 113,
     "metadata": {},
     "output_type": "execute_result"
    }
   ],
   "source": [
    "np.sin(theta_max)*2*Rbl"
   ]
  },
  {
   "cell_type": "code",
   "execution_count": 114,
   "id": "d5f41d00",
   "metadata": {},
   "outputs": [
    {
     "data": {
      "text/plain": [
       "Text(0, 0.5, 'Prob')"
      ]
     },
     "execution_count": 114,
     "metadata": {},
     "output_type": "execute_result"
    },
    {
     "data": {
      "image/png": "[encoded data removed]",
      "text/plain": [
       "<Figure size 432x288 with 1 Axes>"
      ]
     },
     "metadata": {
      "needs_background": "light"
     },
     "output_type": "display_data"
    }
   ],
   "source": [
    "plt.plot(R/Rbl,prob(R,sigma_max))\n",
    "plt.xlabel(\"R/Rbl\")\n",
    "plt.ylabel(\"Prob\")"
   ]
  },
  {
   "cell_type": "code",
   "execution_count": null,
   "id": "35812bb1",
   "metadata": {},
   "outputs": [],
   "source": []
  }
 ],
 "metadata": {
  "kernelspec": {
   "display_name": "Python 3 (ipykernel)",
   "language": "python",
   "name": "python3"
  },
  "language_info": {
   "codemirror_mode": {
    "name": "ipython",
    "version": 3
   },
   "file_extension": ".py",
   "mimetype": "text/x-python",
   "name": "python",
   "nbconvert_exporter": "python",
   "pygments_lexer": "ipython3",
   "version": "3.8.10"
  }
 },
 "nbformat": 4,
 "nbformat_minor": 5
}
